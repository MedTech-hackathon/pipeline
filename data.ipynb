{
 "cells": [
  {
   "cell_type": "markdown",
   "metadata": {},
   "source": [
    "### Data extraction"
   ]
  },
  {
   "cell_type": "code",
   "execution_count": null,
   "metadata": {},
   "outputs": [],
   "source": [
    "from src.data import Data\n",
    "\n",
    "tar_folder_path = r\"Rohdaten\\UKDCEUS034\"\n",
    "\n",
    "data_obj = Data(\n",
    "    tar_folder_path = tar_folder_path,\n",
    "    \n",
    "    device      = \"L15\",      # \"L15\"   , \"C3\"  \n",
    "    size        = \"large\",   # \"large\" , \"small\"\n",
    "    signal_type = \"no_tgc\",  # \"tgc\"   , \"no_tgc\"      \n",
    "    \n",
    "    ac_method        = \"off\",   # \"afd_base\", \"fd_base\", \"d_base\", \"off\"\n",
    "    # v1             = 50,      # Uncomment the vertical and horizontal lines to define a region of interest.\n",
    "    # v2             = 150,\n",
    "    # h1             = 600,\n",
    "    # h2             = 1700,\n",
    "    )"
   ]
  },
  {
   "cell_type": "markdown",
   "metadata": {},
   "source": [
    "### Available data"
   ]
  },
  {
   "cell_type": "code",
   "execution_count": null,
   "metadata": {},
   "outputs": [],
   "source": [
    "# main signal\n",
    "data_obj.signal_3d    \n",
    "  \n",
    "# trimmed signal \n",
    "data_obj.trimmed_signal_3d             \n"
   ]
  },
  {
   "cell_type": "code",
   "execution_count": null,
   "metadata": {},
   "outputs": [],
   "source": [
    "import matplotlib.pyplot as plt\n",
    "\n",
    "print(\"data shape = \", data_obj.signal_3d.shape)\n",
    "\n",
    "frame = 0\n",
    "x = 0\n",
    "\n",
    "# Generate a sample input signal\n",
    "signal = data_obj.signal_3d[x, :, frame]         \n",
    "\n",
    "# Plot the input signal\n",
    "plt.figure(figsize=(10, 6))\n",
    "plt.plot(signal, label='Input Signal')\n",
    "\n",
    "# Add labels and title\n",
    "plt.xlabel('Sample Index')\n",
    "plt.ylabel('Amplitude')\n",
    "plt.title('Input Signal')\n",
    "plt.legend()\n",
    "\n",
    "# Show plot\n",
    "plt.show()\n"
   ]
  },
  {
   "cell_type": "code",
   "execution_count": null,
   "metadata": {},
   "outputs": [],
   "source": [
    "import numpy as np\n",
    "import matplotlib.pyplot as plt\n",
    "from scipy.signal import hilbert\n",
    "\n",
    "# Assuming data_obj.signal_2d is your 2D signal array\n",
    "data_2d = data_obj.signal_2d\n",
    "\n",
    "# Compute the analytic signal using the Hilbert transform to get the envelope\n",
    "analytic_signal = hilbert(data_2d, axis=0)\n",
    "amplitude_envelope = np.abs(analytic_signal)\n",
    "\n",
    "# Apply logarithmic transformation for better visualization\n",
    "amplitude_envelope = 20 * np.log10(1 + amplitude_envelope)\n",
    "\n",
    "# Rotate the envelope 90 degrees counterclockwise and flip it vertically\n",
    "amplitude_envelope = np.rot90(amplitude_envelope)\n",
    "amplitude_envelope = np.flipud(amplitude_envelope)\n",
    "\n",
    "# Plot the B-mode image\n",
    "plt.figure(figsize=(10, 6))\n",
    "plt.imshow(amplitude_envelope, cmap='gray', aspect='auto', extent=[0, amplitude_envelope.shape[1], 0, amplitude_envelope.shape[0]])\n",
    "plt.colorbar(label='Amplitude (dB)')\n",
    "plt.xlabel('Scan Line')\n",
    "plt.ylabel('Depth')\n",
    "plt.title('B-Mode Ultrasound Image')\n",
    "plt.show()\n"
   ]
  }
 ],
 "metadata": {
  "kernelspec": {
   "display_name": ".venv",
   "language": "python",
   "name": "python3"
  },
  "language_info": {
   "codemirror_mode": {
    "name": "ipython",
    "version": 3
   },
   "file_extension": ".py",
   "mimetype": "text/x-python",
   "name": "python",
   "nbconvert_exporter": "python",
   "pygments_lexer": "ipython3",
   "version": "3.12.3"
  },
  "orig_nbformat": 4
 },
 "nbformat": 4,
 "nbformat_minor": 2
}
